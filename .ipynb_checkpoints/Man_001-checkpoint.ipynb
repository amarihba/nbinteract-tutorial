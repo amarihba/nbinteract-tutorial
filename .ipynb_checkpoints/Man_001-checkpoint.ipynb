{
 "cells": [
  {
   "cell_type": "code",
   "execution_count": 1,
   "metadata": {},
   "outputs": [],
   "source": [
    "import numpy as np\n",
    "import ipyvolume as ipv\n",
    "from IPython.core.debugger import set_trace\n",
    "import ipywidgets as widgets"
   ]
  },
  {
   "cell_type": "code",
   "execution_count": 2,
   "metadata": {},
   "outputs": [],
   "source": [
    "def Rx(theta):\n",
    "    R = np.array([\n",
    "        [1, 0, 0],\n",
    "        [0, np.cos(theta), -np.sin(theta)],\n",
    "        [0, np.sin(theta), np.cos(theta)]\n",
    "    ])\n",
    "    return R\n",
    "\n",
    "def Ry(theta):\n",
    "    R = np.array([\n",
    "        [np.cos(theta), 0, np.sin(theta)],\n",
    "        [0, 1, 0],\n",
    "        [-np.sin(theta), 0, np.cos(theta)]\n",
    "    ])\n",
    "    return R\n",
    "\n",
    "def Rz(theta):\n",
    "    R = np.array([\n",
    "        [np.cos(theta), -np.sin(theta), 0],\n",
    "        [np.sin(theta), np.cos(theta), 0],\n",
    "        [0,0,1]\n",
    "    ])\n",
    "    return R\n",
    "    "
   ]
  },
  {
   "cell_type": "code",
   "execution_count": 3,
   "metadata": {},
   "outputs": [],
   "source": [
    "N=5\n",
    "DH_alpha = np.array([            [0],                  [0],                 [-np.pi/2],              [-np.pi/2]       ])\n",
    "DH_a =     np.array([            [15],                 [30],                [15],                    [0]              ])\n",
    "DH_theta = np.array([[-np.pi/2],       [np.pi/2],              [np.pi/2],               [-np.pi/2],                [-np.pi/2]       ])\n",
    "DH_d =     np.array([[0],              [0],                    [0],                     [0],                       [15]      ])\n",
    "\n",
    "\n",
    "T_0_dash_0 = np.block([\n",
    "    [Ry(np.pi/2), np.array([[0],[0],[0]])],\n",
    "    [np.array([[0,0,0,1]])]\n",
    "])"
   ]
  },
  {
   "cell_type": "code",
   "execution_count": 4,
   "metadata": {},
   "outputs": [],
   "source": [
    "T_i__i_minus_1_dash=np.zeros([5,4,4])\n",
    "T_i_dash_i= np.zeros([4,4,4])\n",
    "T= np.zeros([5,4,4])"
   ]
  },
  {
   "cell_type": "code",
   "execution_count": 5,
   "metadata": {},
   "outputs": [],
   "source": [
    "def T_update(DH_alpha, DH_a, DH_theta, DH_d):\n",
    "\n",
    "    for i in np.array([1,2,3,4,5]):\n",
    "        T_i__i_minus_1_dash[i-1,:,:] = np.block([\n",
    "            [Rz(DH_theta[i-1]), np.array([[0],[0],[DH_d[i-1]]])],\n",
    "            [np.array([[0,0,0,1]])]\n",
    "        ])\n",
    "    for i in np.array([1,2,3,4]):\n",
    "        T_i_dash_i[i-1,:,:] = np.block([\n",
    "            [Rx(DH_alpha[i-1]), np.array([[DH_a[i-1]],[0],[0]])],\n",
    "            [np.array([[0,0,0,1]])]\n",
    "        ])\n",
    "\n",
    "    T[0,:,:] = T_0_dash_0@T_i__i_minus_1_dash[0,:,:]\n",
    "\n",
    "    for ii in np.array([1,2,3,4]):\n",
    "        T[ii,:,:]= T[ii-1,:,:]@T_i_dash_i[ii-1,:,:]@T_i__i_minus_1_dash[ii,:,:]\n"
   ]
  },
  {
   "cell_type": "code",
   "execution_count": null,
   "metadata": {},
   "outputs": [],
   "source": []
  },
  {
   "cell_type": "code",
   "execution_count": 6,
   "metadata": {},
   "outputs": [],
   "source": [
    "def link_graphics(z_r,z_l,z_u,x_r, x_l, x_u, N):\n",
    "\n",
    "    #r=1\n",
    "    #w=3\n",
    "    #a=8\n",
    "    #N=20\n",
    "\n",
    "    theta = np.linspace(0, 2*np.pi, N, endpoint = True)\n",
    "    Xa = np.array([0*np.cos(theta), z_r*np.cos(theta), z_r*np.cos(theta), 0*np.cos(theta)])\n",
    "    Ya = np.array([0*np.sin(theta), z_r*np.sin(theta), z_r*np.sin(theta), 0*np.sin(theta)])\n",
    "    Za = np.array([np.ones((N,))*z_l, np.ones((N,))*z_l, np.ones((N,))*z_u, np.ones((N,))*z_u]) \n",
    "\n",
    "    Yl = np.array([0*np.cos(theta), x_r*np.cos(theta), x_r*np.cos(theta), 0*np.cos(theta)])\n",
    "    Zl = np.array([0*np.sin(theta), x_r*np.sin(theta), x_r*np.sin(theta), 0*np.sin(theta)])\n",
    "    Xl = np.array([np.ones((N,))*0,np.ones((N,))*x_l,np.ones((N,))*x_u,np.ones((N,))*x_u]) \n",
    "    \n",
    "    return [Xa, Ya, Za, Xl, Yl, Zl]\n",
    "\n",
    "\n",
    "    "
   ]
  },
  {
   "cell_type": "code",
   "execution_count": 7,
   "metadata": {},
   "outputs": [],
   "source": [
    "def link_graphics_transform(Xa, Ya, Za, Xl, Yl, Zl, T, plota, plotl):\n",
    "    \n",
    "    Ma = np.array([Xa, Ya, Za, Za*0+1])\n",
    "    Ml = np.array([Xl, Yl, Zl, Zl*0+1])\n",
    "    Ma_t = (np.matmul(T,np.moveaxis(Ma,0,1)))\n",
    "    Ml_t = (np.matmul(T,np.moveaxis(Ml,0,1)))\n",
    "    \n",
    "    plota.x = Ma_t[:,0,:].reshape(-1)\n",
    "    plota.y = Ma_t[:,1,:].reshape(-1)\n",
    "    plota.z = Ma_t[:,2,:].reshape(-1)\n",
    "    \n",
    "    plotl.x = Ml_t[:,0,:].reshape(-1)\n",
    "    plotl.y = Ml_t[:,1,:].reshape(-1)\n",
    "    plotl.z = Ml_t[:,2,:].reshape(-1)\n",
    "    "
   ]
  },
  {
   "cell_type": "code",
   "execution_count": 8,
   "metadata": {},
   "outputs": [],
   "source": [
    "j = ipv.figure()\n",
    "k_l=[1,2,3,4,5]\n",
    "t_l=[1,2,3,4,5]\n",
    "color_list = [\"orange\", \"blue\", \"green\", \"yellow\", \"magenta\"]"
   ]
  },
  {
   "cell_type": "code",
   "execution_count": 9,
   "metadata": {},
   "outputs": [],
   "source": [
    "N_circle=20\n",
    "\n",
    "Xa= np.zeros([5,4,N_circle])\n",
    "Ya= np.zeros([5,4,N_circle])\n",
    "Za= np.zeros([5,4,N_circle])\n",
    "Xl= np.zeros([5,4,N_circle])\n",
    "Yl= np.zeros([5,4,N_circle])\n",
    "Zl= np.zeros([5,4,N_circle])\n",
    "\n",
    "\n",
    "\n",
    "for ii in np.array([1,2,3,4,5]):\n",
    "    if ii<5:\n",
    "        [Xa[ii-1,:,:], Ya[ii-1,:,:], Za[ii-1,:,:], Xl[ii-1,:,:], Yl[ii-1,:,:], Zl[ii-1,:,:]] = link_graphics(1,-1.5, +1.5, 1, 0, DH_a[ii-1], N_circle)\n",
    "    else:\n",
    "        [Xa[ii-1,:,:], Ya[ii-1,:,:], Za[ii-1,:,:], Xl[ii-1,:,:], Yl[ii-1,:,:], Zl[ii-1,:,:]] = link_graphics(1,-15, 0,  4, -0.5, +0.5,  N_circle )\n",
    "                \n",
    "    k=ipv.plot_surface(Xa[ii-1,:,:], Ya[ii-1,:,:], Za[ii-1,:,:], color=color_list[ii-1])\n",
    "    t=ipv.plot_surface(Xl[ii-1,:,:], Yl[ii-1,:,:], Zl[ii-1,:,:], color=color_list[ii-1])\n",
    "    k_l[ii-1]=k\n",
    "    t_l[ii-1]=t\n",
    "\n",
    "\n"
   ]
  },
  {
   "cell_type": "code",
   "execution_count": 10,
   "metadata": {},
   "outputs": [],
   "source": [
    "def points_update():\n",
    "    for ii in np.array([1,2,3,4,5]):\n",
    "        link_graphics_transform(Xa[ii-1,:,:], Ya[ii-1,:,:], Za[ii-1,:,:], Xl[ii-1,:,:], Yl[ii-1,:,:], Zl[ii-1,:,:], T[ii-1,:,:], k_l[ii-1], t_l[ii-1])\n"
   ]
  },
  {
   "cell_type": "code",
   "execution_count": 11,
   "metadata": {},
   "outputs": [],
   "source": [
    "def update(*args):\n",
    "    DH_theta=np.array([\n",
    "    theta1.value*np.pi/180,\n",
    "    theta2.value*np.pi/180,\n",
    "    theta3.value*np.pi/180,\n",
    "    theta4.value*np.pi/180,\n",
    "    theta5.value*np.pi/180,\n",
    "    ])\n",
    "    T_update(DH_alpha, DH_a, DH_theta, DH_d)\n",
    "    points_update()\n",
    "\n"
   ]
  },
  {
   "cell_type": "code",
   "execution_count": 12,
   "metadata": {},
   "outputs": [],
   "source": [
    "theta1 = widgets.FloatSlider(\n",
    "    value=-90,\n",
    "    min=-360,\n",
    "    max=+360,\n",
    "    step=0.1,\n",
    "    description='First Joint rotation (Degrees):',\n",
    "    disabled=False,\n",
    "    continuous_update=True,\n",
    "    orientation='horizontal',\n",
    "    layout = widgets.Layout(width='500px'),\n",
    "    readout=True,\n",
    "    readout_format='.1f',\n",
    ")\n",
    "\n",
    "theta1.observe(update, 'value')\n",
    "                                \n",
    "theta2 = widgets.FloatSlider(\n",
    "    value=90,\n",
    "    min=-360,\n",
    "    max=+360,\n",
    "    step=0.1,\n",
    "    description='Second Joint rotation (Degrees):',\n",
    "    disabled=False,\n",
    "    continuous_update=True,\n",
    "    orientation='horizontal',\n",
    "    layout = widgets.Layout(width='500px'),\n",
    "    readout=True,\n",
    "    readout_format='.1f',\n",
    ")\n",
    "\n",
    "theta2.observe(update, 'value')\n",
    "\n",
    "theta3 = widgets.FloatSlider(\n",
    "    value=90,\n",
    "    min=-360,\n",
    "    max=+360,\n",
    "    step=0.1,\n",
    "    description='Third Joint rotation (Degrees):',\n",
    "    disabled=False,\n",
    "    continuous_update=True,\n",
    "    orientation='horizontal',\n",
    "    layout = widgets.Layout(width='500px'),\n",
    "    readout=True,\n",
    "    readout_format='.1f',\n",
    ")\n",
    "\n",
    "theta3.observe(update, 'value')\n",
    "\n",
    "theta4 = widgets.FloatSlider(\n",
    "    value=-90,\n",
    "    min=-360,\n",
    "    max=+360,\n",
    "    step=0.1,\n",
    "    description='Fourth Joint rotation (Degrees):',\n",
    "    disabled=False,\n",
    "    continuous_update=True,\n",
    "    orientation='horizontal',\n",
    "    layout = widgets.Layout(width='500px'),\n",
    "    readout=True,\n",
    "    readout_format='.1f',\n",
    ")\n",
    "\n",
    "theta4.observe(update, 'value')\n",
    "\n",
    "theta5 = widgets.FloatSlider(\n",
    "    value=90,\n",
    "    min=-360,\n",
    "    max=+360,\n",
    "    step=0.1,\n",
    "    description='Fifth Joint rotation (Degrees):',\n",
    "    disabled=False,\n",
    "    continuous_update=True,\n",
    "    orientation='horizontal',\n",
    "    layout = widgets.Layout(width='500px'),\n",
    "    readout=True,\n",
    "    readout_format='.1f',\n",
    ")\n",
    "\n",
    "theta5.observe(update, 'value')"
   ]
  },
  {
   "cell_type": "code",
   "execution_count": 13,
   "metadata": {},
   "outputs": [],
   "source": [
    "ipv.pylab.xlim(-10, 10)\n",
    "ipv.pylab.ylim(-10, 10)\n",
    "ipv.pylab.zlim(-10, 10)\n",
    "\n",
    "#ipv.show()"
   ]
  },
  {
   "cell_type": "code",
   "execution_count": 14,
   "metadata": {},
   "outputs": [
    {
     "data": {
      "application/vnd.jupyter.widget-view+json": {
       "model_id": "a733cd3a29454e05bc849c0e4851e6bd",
       "version_major": 2,
       "version_minor": 0
      },
      "text/plain": [
       "VBox(children=(Figure(camera=PerspectiveCamera(fov=46.0, position=(0.0, 0.0, 2.0), projectionMatrix=(2.3558523…"
      ]
     },
     "metadata": {},
     "output_type": "display_data"
    }
   ],
   "source": [
    "widgets.VBox([  j,\n",
    "              theta1,\n",
    "              theta2,\n",
    "              theta3,\n",
    "              theta4,\n",
    "              theta5\n",
    "             ] )"
   ]
  },
  {
   "cell_type": "code",
   "execution_count": null,
   "metadata": {},
   "outputs": [],
   "source": []
  },
  {
   "cell_type": "code",
   "execution_count": null,
   "metadata": {},
   "outputs": [],
   "source": []
  }
 ],
 "metadata": {
  "kernelspec": {
   "display_name": "Python 3",
   "language": "python",
   "name": "python3"
  },
  "language_info": {
   "codemirror_mode": {
    "name": "ipython",
    "version": 3
   },
   "file_extension": ".py",
   "mimetype": "text/x-python",
   "name": "python",
   "nbconvert_exporter": "python",
   "pygments_lexer": "ipython3",
   "version": "3.7.4"
  }
 },
 "nbformat": 4,
 "nbformat_minor": 2
}
